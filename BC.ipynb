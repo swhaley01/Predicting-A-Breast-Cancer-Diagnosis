{
 "cells": [
  {
   "cell_type": "markdown",
   "metadata": {},
   "source": [
    "### Credit: Devin Moya, Woz-U, Data Science Program Mentor 2019"
   ]
  },
  {
   "cell_type": "code",
   "execution_count": 2,
   "metadata": {},
   "outputs": [],
   "source": [
    "import pandas as pd\n",
    "from sklearn.ensemble import RandomForestClassifier\n",
    "from sklearn.model_selection import cross_val_score\n",
    "import warnings\n",
    "warnings.filterwarnings(\"ignore\")\n",
    "import numpy as np"
   ]
  },
  {
   "cell_type": "code",
   "execution_count": 3,
   "metadata": {},
   "outputs": [],
   "source": [
    "df = pd.read_csv(\"data.csv\").drop(['id','Unnamed: 32'], axis=1)"
   ]
  },
  {
   "cell_type": "code",
   "execution_count": 4,
   "metadata": {},
   "outputs": [],
   "source": [
    "x = df\n",
    "y = df.pop('diagnosis')"
   ]
  },
  {
   "cell_type": "code",
   "execution_count": null,
   "metadata": {},
   "outputs": [],
   "source": []
  },
  {
   "cell_type": "code",
   "execution_count": 5,
   "metadata": {},
   "outputs": [
    {
     "name": "stdout",
     "output_type": "stream",
     "text": [
      "0.9279876875721431\n",
      "0.9157829934590227\n",
      "0.9457483647556753\n",
      "0.9440092343208928\n",
      "0.9457175836860332\n",
      "0.9545055790688727\n",
      "0.9597845325125048\n",
      "0.9615236629472875\n",
      "0.96326279338207\n",
      "0.9649711427472104\n",
      "0.9632320123124278\n",
      "0.9650019238168527\n",
      "0.9650327048864946\n",
      "0.96326279338207\n",
      "0.96326279338207\n",
      "0.9650327048864946\n"
     ]
    }
   ],
   "source": [
    "n_estimator_options = [1, 2, 3, 4, 5, 15, 20, 25, 40, 50, 70, 100, 200, 250, 500, 1000]\n",
    "\n",
    "for trees in n_estimator_options:\n",
    "    model = RandomForestClassifier(n_estimators=trees, random_state=42)\n",
    "    print(np.mean(cross_val_score(model, x, y, cv=5, scoring='accuracy')))\n",
    "    \n",
    "#200"
   ]
  },
  {
   "cell_type": "code",
   "execution_count": 6,
   "metadata": {},
   "outputs": [
    {
     "name": "stdout",
     "output_type": "stream",
     "text": [
      "0.9650327048864946\n",
      "0.9615852250865717\n",
      "0.9650327048864946\n",
      "0.9650327048864948\n",
      "0.9615236629472873\n",
      "0.96326279338207\n"
     ]
    }
   ],
   "source": [
    "max_features_options = [\"auto\", None, \"sqrt\", \"log2\", 0.7, 0.2]\n",
    "\n",
    "for option in max_features_options:\n",
    "    model = RandomForestClassifier(n_estimators=200, max_features=option, random_state=42)\n",
    "    print(np.mean(cross_val_score(model, x, y, cv=5, scoring='accuracy')))"
   ]
  },
  {
   "cell_type": "code",
   "execution_count": 7,
   "metadata": {},
   "outputs": [
    {
     "name": "stdout",
     "output_type": "stream",
     "text": [
      "0.928141592920354\n",
      "0.9509349749903808\n",
      "0.9527048864948057\n",
      "0.956213928434013\n",
      "0.9579838399384378\n",
      "0.9650327048864948\n",
      "0.9650327048864948\n",
      "0.9650327048864948\n",
      "0.9650327048864948\n"
     ]
    }
   ],
   "source": [
    "max_depth_size  = [1,2,3,4,5,10,20,50,100]\n",
    "\n",
    "for depth in max_depth_size:\n",
    "    model = RandomForestClassifier(n_estimators=200, max_depth=depth, max_features=\"log2\", random_state=42)\n",
    "    print(np.mean(cross_val_score(model, x, y, cv=5, scoring='accuracy')))"
   ]
  },
  {
   "cell_type": "code",
   "execution_count": 8,
   "metadata": {},
   "outputs": [
    {
     "name": "stdout",
     "output_type": "stream",
     "text": [
      "0.9650327048864948\n",
      "0.9632320123124278\n",
      "0.9561831473643709\n",
      "0.956213928434013\n",
      "0.9544747979992305\n",
      "0.9562447095036551\n",
      "0.9544747979992305\n",
      "0.9544747979992305\n",
      "0.9527048864948057\n",
      "0.9544747979992305\n",
      "0.9439784532512505\n"
     ]
    }
   ],
   "source": [
    "min_samples_leaf_options = [1, 2, 3, 4, 5, 6, 7, 8, 9, 10,20]\n",
    "\n",
    "for msl in min_samples_leaf_options:\n",
    "    model = RandomForestClassifier(n_estimators=200, max_depth=10, max_features=\"log2\", min_samples_leaf=msl, random_state=42)\n",
    "    print(np.mean(cross_val_score(model, x, y, cv=5, scoring='accuracy')))"
   ]
  },
  {
   "cell_type": "code",
   "execution_count": 9,
   "metadata": {},
   "outputs": [],
   "source": [
    "#highest score: 0.9650327048864948\n",
    "model = RandomForestClassifier(n_estimators=200, max_depth=10, max_features=\"log2\", random_state=42)\n"
   ]
  },
  {
   "cell_type": "code",
   "execution_count": null,
   "metadata": {},
   "outputs": [],
   "source": []
  },
  {
   "cell_type": "code",
   "execution_count": 10,
   "metadata": {},
   "outputs": [],
   "source": [
    "import pandas\n",
    "from pandas.plotting import scatter_matrix\n",
    "import matplotlib.pyplot as plt\n",
    "from sklearn import model_selection\n",
    "from sklearn.metrics import classification_report\n",
    "from sklearn.metrics import confusion_matrix\n",
    "from sklearn.metrics import accuracy_score\n",
    "from sklearn.linear_model import LogisticRegression\n",
    "from sklearn.tree import DecisionTreeClassifier\n",
    "from sklearn.ensemble import RandomForestClassifier\n",
    "from sklearn.neighbors import KNeighborsClassifier\n",
    "from sklearn.discriminant_analysis import LinearDiscriminantAnalysis\n",
    "from sklearn.naive_bayes import GaussianNB\n",
    "from sklearn.svm import SVC"
   ]
  },
  {
   "cell_type": "code",
   "execution_count": 11,
   "metadata": {},
   "outputs": [],
   "source": [
    "validation_size = 0.20\n",
    "seed = 7\n",
    "X_train, X_validation, Y_train, Y_validation = model_selection.train_test_split(\n",
    "    x, y, test_size=validation_size, random_state=seed)"
   ]
  },
  {
   "cell_type": "code",
   "execution_count": 22,
   "metadata": {},
   "outputs": [],
   "source": [
    "models = []\n",
    "models.append(('LR', LogisticRegression()))\n",
    "models.append(('KNN', KNeighborsClassifier()))\n",
    "models.append(('RF', RandomForestClassifier()))\n",
    "models.append(('NB', GaussianNB()))\n",
    "models.append(('CART', DecisionTreeClassifier()))\n",
    "models.append(('SVM', SVC()))"
   ]
  },
  {
   "cell_type": "code",
   "execution_count": 23,
   "metadata": {},
   "outputs": [
    {
     "name": "stdout",
     "output_type": "stream",
     "text": [
      "LR: 0.949517 (0.032486)\n",
      "KNN: 0.934251 (0.036500)\n",
      "RF: 0.949565 (0.035255)\n",
      "NB: 0.936280 (0.031752)\n",
      "CART: 0.927585 (0.042784)\n",
      "SVM: 0.621594 (0.082211)\n"
     ]
    }
   ],
   "source": [
    "# Test options and evaluation metric\n",
    "seed = 7\n",
    "scoring = 'accuracy'\n",
    "\n",
    "results = []\n",
    "names = []\n",
    "\n",
    "# evaluate each model in turn\n",
    "for name, model in models:\n",
    "    kfold = model_selection.KFold(n_splits=10, random_state=seed)\n",
    "    cv_results = model_selection.cross_val_score(\n",
    "        model, X_train, Y_train, cv=kfold, scoring=scoring)\n",
    "    results.append(cv_results)\n",
    "    names.append(name)\n",
    "    msg = \"%s: %f (%f)\" % (name, cv_results.mean(), cv_results.std())\n",
    "    print(msg)"
   ]
  },
  {
   "cell_type": "code",
   "execution_count": null,
   "metadata": {},
   "outputs": [],
   "source": []
  },
  {
   "cell_type": "code",
   "execution_count": null,
   "metadata": {},
   "outputs": [],
   "source": []
  },
  {
   "cell_type": "code",
   "execution_count": null,
   "metadata": {},
   "outputs": [],
   "source": []
  }
 ],
 "metadata": {
  "kernelspec": {
   "display_name": "Python 3",
   "language": "python",
   "name": "python3"
  },
  "language_info": {
   "codemirror_mode": {
    "name": "ipython",
    "version": 3
   },
   "file_extension": ".py",
   "mimetype": "text/x-python",
   "name": "python",
   "nbconvert_exporter": "python",
   "pygments_lexer": "ipython3",
   "version": "3.7.3"
  }
 },
 "nbformat": 4,
 "nbformat_minor": 2
}
